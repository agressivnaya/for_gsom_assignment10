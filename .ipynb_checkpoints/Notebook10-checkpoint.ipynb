{
 "cells": [
  {
   "cell_type": "code",
   "execution_count": 33,
   "id": "cfe4474f-1cde-4eca-a61f-a37494322f44",
   "metadata": {
    "tags": []
   },
   "outputs": [
    {
     "name": "stdout",
     "output_type": "stream",
     "text": [
      "Results have been saved to result.txt.\n"
     ]
    }
   ],
   "source": [
    "import smallest\n",
    "from integers import (\n",
    "    positive_numbers,\n",
    "    negative_numbers,\n",
    "    mixed_numbers,\n",
    "    even_numbers,\n",
    "    random_numbers\n",
    ")\n",
    "\n",
    "# List of lists to process\n",
    "lists_to_process = [\n",
    "    positive_numbers,\n",
    "    negative_numbers,\n",
    "    mixed_numbers,\n",
    "    even_numbers,\n",
    "    random_numbers\n",
    "]\n",
    "\n",
    "# Open the result.txt file to write results\n",
    "with open('result.txt', 'w') as result_file:\n",
    "    for numbers in lists_to_process:\n",
    "        smallest_values = find_two_smallest(numbers)\n",
    "        result_file.write(f\"{numbers}: {smallest_values}\\n\")\n",
    "\n",
    "print(\"Results have been saved to result.txt.\")"
   ]
  },
  {
   "cell_type": "code",
   "execution_count": null,
   "id": "3378c3cc-f519-4cb8-ab2e-c9e068e6e5f6",
   "metadata": {},
   "outputs": [],
   "source": []
  }
 ],
 "metadata": {
  "kernelspec": {
   "display_name": "Python 3 (ipykernel)",
   "language": "python",
   "name": "python3"
  },
  "language_info": {
   "codemirror_mode": {
    "name": "ipython",
    "version": 3
   },
   "file_extension": ".py",
   "mimetype": "text/x-python",
   "name": "python",
   "nbconvert_exporter": "python",
   "pygments_lexer": "ipython3",
   "version": "3.10.9"
  }
 },
 "nbformat": 4,
 "nbformat_minor": 5
}
