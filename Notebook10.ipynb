{
 "cells": [
  {
   "cell_type": "code",
   "execution_count": 40,
   "id": "088e31f2-a5cf-447e-b8b6-c5085a17aa2f",
   "metadata": {
    "tags": []
   },
   "outputs": [
    {
     "name": "stdout",
     "output_type": "stream",
     "text": [
      "Book Information:\n",
      "Author: George Orwell, Title: 1984, Year: 1949, Price: $5.71, Stoplist: False\n",
      "Author: Harper Lee, Title: To Kill a Mockingbird, Year: 1960, Price: $9.71, Stoplist: True\n",
      "Author: Piter Drucker, Title: The Effective Executive, Year: 1966, Price: $5.19, Stoplist: False\n",
      "Author: Lewis Caroll, Title: Alice in Wonderland, Year: 1865, Price: $10.98, Stoplist: False\n",
      "Author: Boris Akunin, Title: Azazel, Year: 1998, Price: $6.99, Stoplist: True\n",
      "\n",
      "Most Expensive Book:\n",
      "Author: Lewis Caroll, Title: Alice in Wonderland, Year: 1865, Price: $10.98, Stoplist: False\n",
      "\n",
      "Censoring books by Harper Lee...\n",
      "\n",
      "Updated Book Information:\n",
      "Author: George Orwell, Title: 1984, Year: 1949, Price: $5.71, Stoplist: False\n",
      "Author: Harper Lee, Title: To Kill a Mockingbird, Year: 1960, Price: $9.71, Stoplist: True\n",
      "Author: Piter Drucker, Title: The Effective Executive, Year: 1966, Price: $5.19, Stoplist: False\n",
      "Author: Lewis Caroll, Title: Alice in Wonderland, Year: 1865, Price: $10.98, Stoplist: False\n",
      "Author: Boris Akunin, Title: Azazel, Year: 1998, Price: $6.99, Stoplist: True\n"
     ]
    }
   ],
   "source": [
    "from Library import Book\n",
    "\n",
    "def main():\n",
    "    # Create a list of different books\n",
    "    books = [\n",
    "        Book(\"1984\", \"George Orwell\", 1949, 5.71),\n",
    "        Book(\"To Kill a Mockingbird\", \"Harper Lee\", 1960, 9.71, True),\n",
    "        Book(\"The Effective Executive\", \"Piter Drucker\", 1966, 5.19),\n",
    "        Book(\"Alice in Wonderland\", \"Lewis Caroll\", 1865, 10.98),\n",
    "        Book(\"Azazel\", \"Boris Akunin\", 1998, 6.99, True)\n",
    "    ]\n",
    "\n",
    "    # Show information about each book\n",
    "    print(\"Book Information:\")\n",
    "    for book in books:\n",
    "        print(book.get_info())\n",
    "\n",
    "    # Find and display the most expensive book\n",
    "    most_expensive = Book.find_most_expensive(books)\n",
    "    if most_expensive:\n",
    "        print(f\"\\nMost Expensive Book:\\n{most_expensive.get_info()}\")\n",
    "\n",
    "    # Set stoplist for a specific author\n",
    "    author_to_censor = \"Harper Lee\"\n",
    "    print(f\"\\nCensoring books by {author_to_censor}...\")\n",
    "    for book in books:\n",
    "        book.censor(author_to_censor, True)  # Setting stoplist to True\n",
    "\n",
    "    # Show updated information about each book\n",
    "    print(\"\\nUpdated Book Information:\")\n",
    "    for book in books:\n",
    "        print(book.get_info())\n",
    "\n",
    "if __name__ == \"__main__\":\n",
    "    main()"
   ]
  },
  {
   "cell_type": "code",
   "execution_count": null,
   "id": "5372c8bf-a123-4af9-8e3d-90d77a8e1a43",
   "metadata": {},
   "outputs": [],
   "source": []
  },
  {
   "cell_type": "code",
   "execution_count": null,
   "id": "ef5d6eef-692e-4787-b768-39517b992ced",
   "metadata": {},
   "outputs": [],
   "source": []
  }
 ],
 "metadata": {
  "kernelspec": {
   "display_name": "Python 3 (ipykernel)",
   "language": "python",
   "name": "python3"
  },
  "language_info": {
   "codemirror_mode": {
    "name": "ipython",
    "version": 3
   },
   "file_extension": ".py",
   "mimetype": "text/x-python",
   "name": "python",
   "nbconvert_exporter": "python",
   "pygments_lexer": "ipython3",
   "version": "3.10.9"
  }
 },
 "nbformat": 4,
 "nbformat_minor": 5
}
